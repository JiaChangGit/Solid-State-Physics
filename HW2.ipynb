{
 "cells": [
  {
   "cell_type": "markdown",
   "metadata": {},
   "source": [
    "### Example 1\n",
    "印出九九乘法表"
   ]
  },
  {
   "cell_type": "code",
   "execution_count": 1,
   "metadata": {},
   "outputs": [
    {
     "name": "stdout",
     "output_type": "stream",
     "text": [
      "3 x 1 = 3\n",
      "3 x 2 = 6\n",
      "3 x 3 = 9\n",
      "3 x 4 = 12\n",
      "3 x 5 = 15\n",
      "3 x 6 = 18\n",
      "3 x 7 = 21\n",
      "3 x 8 = 24\n",
      "3 x 9 = 27\n",
      "\n",
      "4 x 1 = 4\n",
      "4 x 2 = 8\n",
      "4 x 3 = 12\n",
      "4 x 4 = 16\n",
      "4 x 5 = 20\n",
      "4 x 6 = 24\n",
      "4 x 7 = 28\n",
      "4 x 8 = 32\n",
      "4 x 9 = 36\n",
      "\n"
     ]
    }
   ],
   "source": [
    "num1 = [3,4]\n",
    "num2 = range(1,10)\n",
    "for n1 in num1:\n",
    "    for n2 in num2:\n",
    "        print(n1, 'x' ,n2, '=', n1*n2)\n",
    "    print()"
   ]
  },
  {
   "cell_type": "markdown",
   "metadata": {},
   "source": [
    "### Example 2\n",
    "印出倒三角形"
   ]
  },
  {
   "cell_type": "code",
   "execution_count": 2,
   "metadata": {},
   "outputs": [
    {
     "name": "stdout",
     "output_type": "stream",
     "text": [
      "*****\n",
      " ****\n",
      "  ***\n",
      "   **\n",
      "    *\n"
     ]
    }
   ],
   "source": [
    "for i in range(5):\n",
    "    for j in range(i):\n",
    "        print(' ', end='')\n",
    "    for j in range(5-i):\n",
    "        print('*', end='')\n",
    "    print()"
   ]
  },
  {
   "cell_type": "markdown",
   "metadata": {},
   "source": [
    "### Example 3\n",
    "加總`List`中所有的元素"
   ]
  },
  {
   "cell_type": "code",
   "execution_count": 3,
   "metadata": {},
   "outputs": [
    {
     "name": "stdout",
     "output_type": "stream",
     "text": [
      "15\n"
     ]
    }
   ],
   "source": [
    "def sum_array(a):\n",
    "    s = 0\n",
    "    for i in range(len(a)):\n",
    "        s = s + a[i]\n",
    "    return s\n",
    "\n",
    "print(sum_array([1,2,3,4,5]))"
   ]
  },
  {
   "cell_type": "markdown",
   "metadata": {},
   "source": [
    "---\n",
    "## <font color=Blue>Part I: Basic</font>\n",
    "<font color=Blue>以下九題每題1分，錯兩題不扣分，但不能空白。</font>"
   ]
  },
  {
   "cell_type": "markdown",
   "metadata": {},
   "source": [
    "### Question 1-1\n",
    "Use `for` statment to print the following graph:"
   ]
  },
  {
   "cell_type": "code",
   "execution_count": 4,
   "metadata": {},
   "outputs": [
    {
     "name": "stdout",
     "output_type": "stream",
     "text": [
      "*\n",
      "**\n",
      "***\n",
      "****\n"
     ]
    }
   ],
   "source": [
    "###################\n",
    "# Your code here! #\n",
    "###################"
   ]
  },
  {
   "cell_type": "markdown",
   "metadata": {},
   "source": [
    "### Question 1-2\n",
    "Use `for` statment to print the following graph:"
   ]
  },
  {
   "cell_type": "code",
   "execution_count": 5,
   "metadata": {},
   "outputs": [
    {
     "name": "stdout",
     "output_type": "stream",
     "text": [
      "     *\n",
      "    ***\n",
      "   *****\n",
      "  *******\n",
      " *********\n"
     ]
    }
   ],
   "source": [
    "###################\n",
    "# Your code here! #\n",
    "###################"
   ]
  },
  {
   "cell_type": "markdown",
   "metadata": {},
   "source": [
    "### Question 1-3\n",
    "Use `for` statment to print the following graph:"
   ]
  },
  {
   "cell_type": "code",
   "execution_count": 6,
   "metadata": {},
   "outputs": [
    {
     "name": "stdout",
     "output_type": "stream",
     "text": [
      "     *\n",
      "     5\n",
      "    444\n",
      "   33333\n",
      "  2222222\n",
      " 111111111\n",
      "###########\n"
     ]
    }
   ],
   "source": [
    "print('     *')\n",
    "###################\n",
    "# Your code here! #\n",
    "###################\n",
    "print('###########')"
   ]
  },
  {
   "cell_type": "markdown",
   "metadata": {},
   "source": [
    "### Question 1-4\n",
    "Define a function called `factorial` to calculate the factorial (階乘) of a number `n` by using the `for` statment."
   ]
  },
  {
   "cell_type": "code",
   "execution_count": 7,
   "metadata": {},
   "outputs": [
    {
     "name": "stdout",
     "output_type": "stream",
     "text": [
      "1\n",
      "2\n",
      "6\n",
      "720\n"
     ]
    }
   ],
   "source": [
    "def factorial(n):\n",
    "    ###################\n",
    "    # Your code here! #\n",
    "    ###################\n",
    "\n",
    "print(factorial(1))\n",
    "print(factorial(2))\n",
    "print(factorial(3))\n",
    "print(factorial(6))"
   ]
  },
  {
   "cell_type": "markdown",
   "metadata": {},
   "source": [
    "### Question 1-5\n",
    "Define a function called `check_BMI` that returns the BMI status by using the `if` statement.\n",
    "- Underweight: BMI < 18.5\n",
    "- Normal: 18.5 <= BMI <= 25\n",
    "- Overweight: BMI > 25"
   ]
  },
  {
   "cell_type": "code",
   "execution_count": 8,
   "metadata": {},
   "outputs": [
    {
     "name": "stdout",
     "output_type": "stream",
     "text": [
      "Normal\n",
      "Overweight\n",
      "Underweight\n"
     ]
    }
   ],
   "source": [
    "def check_BMI(BMI):\n",
    "    ###################\n",
    "    # Your code here! #\n",
    "    ###################\n",
    "        \n",
    "print(check_BMI(21.3))\n",
    "print(check_BMI(31.2))\n",
    "print(check_BMI(17.6))"
   ]
  },
  {
   "cell_type": "markdown",
   "metadata": {},
   "source": [
    "### Question 1-6\n",
    "Define a function called `is_odd` that checks whether a value `n` is odd or not by using the `if` statement."
   ]
  },
  {
   "cell_type": "code",
   "execution_count": 9,
   "metadata": {},
   "outputs": [
    {
     "name": "stdout",
     "output_type": "stream",
     "text": [
      "False\n",
      "True\n"
     ]
    }
   ],
   "source": [
    "def is_odd(n):\n",
    "    ###################\n",
    "    # Your code here! #\n",
    "    ###################\n",
    "\n",
    "\n",
    "print(is_odd(3600))\n",
    "print(is_odd(3601))"
   ]
  },
  {
   "cell_type": "markdown",
   "metadata": {},
   "source": [
    "### Question 1-7\n",
    "Define a function called `is_prime` that checks whether a value `n` is prime (質數) or not by using the `if` and `for` statement."
   ]
  },
  {
   "cell_type": "code",
   "execution_count": 10,
   "metadata": {},
   "outputs": [
    {
     "name": "stdout",
     "output_type": "stream",
     "text": [
      "True\n",
      "True\n",
      "False\n",
      "True\n"
     ]
    }
   ],
   "source": [
    "def is_prime(n):\n",
    "    ###################\n",
    "    # Your code here! #\n",
    "    ###################\n",
    "\n",
    "print(is_prime(2))\n",
    "print(is_prime(11))\n",
    "print(is_prime(20))\n",
    "print(is_prime(29))"
   ]
  },
  {
   "cell_type": "markdown",
   "metadata": {},
   "source": [
    "### Question 1-8\n",
    "Define a function called `matrix33_add` to calculate the matrix addition of `m1` and `m2`, where the matrices are `3x3`."
   ]
  },
  {
   "cell_type": "code",
   "execution_count": 11,
   "metadata": {},
   "outputs": [
    {
     "name": "stdout",
     "output_type": "stream",
     "text": [
      "[[2, 1, 1], [2, 4, 2], [3, 3, 6]]\n"
     ]
    }
   ],
   "source": [
    "def matrix33_add(m1, m2):\n",
    "    ###################\n",
    "    # Your code here! #\n",
    "    ###################\n",
    "\n",
    "\n",
    "m1 = [\n",
    "    [1,1,1],\n",
    "    [2,2,2],\n",
    "    [3,3,3]]\n",
    "m2 = [\n",
    "    [1,0,0],\n",
    "    [0,2,0],\n",
    "    [0,0,3]]\n",
    "print(matrix33_add(m1,m2))"
   ]
  },
  {
   "cell_type": "markdown",
   "metadata": {},
   "source": [
    "### Question 1-9\n",
    "Define a function called `seperate` to seperate the values of an array `a` by a value `n`."
   ]
  },
  {
   "cell_type": "code",
   "execution_count": 12,
   "metadata": {},
   "outputs": [
    {
     "name": "stdout",
     "output_type": "stream",
     "text": [
      "[[1, 2, 3, 4], [6, 8, 9]]\n"
     ]
    }
   ],
   "source": [
    "def seperate(a, n):\n",
    "    b1, b2 = [], []\n",
    "    ###################\n",
    "    # Your code here! #\n",
    "    ###################\n",
    "        \n",
    "\n",
    "a = [1,2,3,4,6,8,9]\n",
    "print(seperate(a,4.5))"
   ]
  },
  {
   "cell_type": "markdown",
   "metadata": {},
   "source": [
    "---\n",
    "## <font color=Blue>Part 2: Advanced</font>\n",
    "<font color=Blue>每題2分，三題中答對兩題得滿分6分。</font>"
   ]
  },
  {
   "cell_type": "markdown",
   "metadata": {},
   "source": [
    "### Question 2-1: Fibonacci Sequence\n",
    "Define a function called `get_fibonacci` that returns a Fibonacci Sequence upto `n` elements."
   ]
  },
  {
   "cell_type": "code",
   "execution_count": 13,
   "metadata": {},
   "outputs": [
    {
     "name": "stdout",
     "output_type": "stream",
     "text": [
      "[0]\n",
      "[0, 1]\n",
      "[0, 1, 1, 2, 3]\n",
      "[0, 1, 1, 2, 3, 5, 8, 13, 21, 34, 55, 89, 144]\n"
     ]
    }
   ],
   "source": [
    "def get_fibonacci(n):\n",
    "    ###################\n",
    "    # Your code here! #\n",
    "    ###################\n",
    "        \n",
    "print(get_fibonacci(1))\n",
    "print(get_fibonacci(2))\n",
    "print(get_fibonacci(5))\n",
    "print(get_fibonacci(13))"
   ]
  },
  {
   "cell_type": "markdown",
   "metadata": {},
   "source": [
    "### Question 2-2: Prime number finding\n",
    "Define a function called `get_prime` that returns all prime numbers between 2 and a value `n`."
   ]
  },
  {
   "cell_type": "code",
   "execution_count": 14,
   "metadata": {},
   "outputs": [
    {
     "name": "stdout",
     "output_type": "stream",
     "text": [
      "[2]\n",
      "[2, 3, 5, 7]\n",
      "[2, 3, 5, 7, 11, 13, 17, 19]\n"
     ]
    }
   ],
   "source": [
    "def get_prime(n):\n",
    "    primes = []\n",
    "    ###################\n",
    "    # Your code here! #\n",
    "    ###################\n",
    "    return primes\n",
    "        \n",
    "print(get_prime(2))\n",
    "print(get_prime(10))\n",
    "print(get_prime(20))"
   ]
  },
  {
   "cell_type": "markdown",
   "metadata": {},
   "source": [
    "### Question 2-3: Bubble sort\n",
    "Sort a numeric array. Given an array `a`, if `a[i]` is smaller than `a[j]`, then swap the content of `a[i]` and `a[j]`."
   ]
  },
  {
   "cell_type": "code",
   "execution_count": 15,
   "metadata": {},
   "outputs": [
    {
     "name": "stdout",
     "output_type": "stream",
     "text": [
      "[2, 2, 5, 6, 10, 23, 27, 38, 59]\n",
      "[1, 2, 4, 20, 27, 28, 29, 49, 58, 59, 60, 63]\n"
     ]
    }
   ],
   "source": [
    "def bubble_sort(arr):\n",
    "    ###################\n",
    "    # Your code here! #\n",
    "    ###################\n",
    "\n",
    "print(bubble_sort([5,2,6,2,10,38,27,59,23]))\n",
    "print(bubble_sort([49,20,58,2,4,27,63,28,60,29,1,59]))"
   ]
  },
  {
   "cell_type": "code",
   "execution_count": null,
   "metadata": {},
   "outputs": [],
   "source": []
  }
 ],
 "metadata": {
  "kernelspec": {
   "display_name": "Python 3",
   "language": "python",
   "name": "python3"
  },
  "language_info": {
   "codemirror_mode": {
    "name": "ipython",
    "version": 3
   },
   "file_extension": ".py",
   "mimetype": "text/x-python",
   "name": "python",
   "nbconvert_exporter": "python",
   "pygments_lexer": "ipython3",
   "version": "3.8.5"
  }
 },
 "nbformat": 4,
 "nbformat_minor": 4
}
