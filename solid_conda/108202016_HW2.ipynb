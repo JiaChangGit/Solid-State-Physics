{
 "cells": [
  {
   "cell_type": "code",
   "execution_count": 1,
   "metadata": {},
   "outputs": [
    {
     "name": "stdout",
     "output_type": "stream",
     "text": [
      "\n",
      "*\n",
      "**\n",
      "***\n",
      "****\n",
      "*****\n"
     ]
    }
   ],
   "source": [
    "def tri_r(n):\n",
    "    for i in range(n+1):\n",
    "        print(i*'*')\n",
    "tri_r(5)"
   ]
  },
  {
   "cell_type": "code",
   "execution_count": 2,
   "metadata": {},
   "outputs": [
    {
     "name": "stdout",
     "output_type": "stream",
     "text": [
      "     \n",
      "    *\n",
      "   ***\n",
      "  *****\n",
      " *******\n",
      "*********\n"
     ]
    }
   ],
   "source": [
    "def tri_mid(n):\n",
    "    for i in range(n+1):\n",
    "        print(' '*(n-i)+'*'*(2*i-1))\n",
    "tri_mid(5)"
   ]
  },
  {
   "cell_type": "code",
   "execution_count": 3,
   "metadata": {},
   "outputs": [
    {
     "name": "stdout",
     "output_type": "stream",
     "text": [
      "     *\n",
      "     5\n",
      "    444\n",
      "   33333\n",
      "  2222222\n",
      " 111111111\n",
      "###########\n"
     ]
    }
   ],
   "source": [
    "def tri_mid(n):\n",
    "    for i in range(n+1):\n",
    "        print(' '*(n-i),str(5-i)*(2*i+1))\n",
    "print('     *')\n",
    "tri_mid(4)\n",
    "print('###########')"
   ]
  },
  {
   "cell_type": "code",
   "execution_count": 4,
   "metadata": {},
   "outputs": [
    {
     "name": "stdout",
     "output_type": "stream",
     "text": [
      "1\n",
      "2\n",
      "6\n",
      "720\n"
     ]
    }
   ],
   "source": [
    "def factorial(n):\n",
    "    if n==0 or n==1:\n",
    "        return 1\n",
    "    else:\n",
    "        return n*factorial(n-1)\n",
    "\n",
    "print(factorial(1))\n",
    "print(factorial(2))\n",
    "print(factorial(3))\n",
    "print(factorial(6))\n"
   ]
  },
  {
   "cell_type": "code",
   "execution_count": 5,
   "metadata": {},
   "outputs": [
    {
     "name": "stdout",
     "output_type": "stream",
     "text": [
      "Normal\n",
      "Overweight\n",
      "Underweight\n"
     ]
    }
   ],
   "source": [
    "def check_BMI(BMI):\n",
    "    if BMI < 18.5:\n",
    "        return \"Underweight\"\n",
    "    elif BMI <= 25 and BMI >= 18.5:\n",
    "        return \"Normal\"\n",
    "    else:\n",
    "        return \"Overweight\"\n",
    "print(check_BMI(21.3))\n",
    "print(check_BMI(31.2))\n",
    "print(check_BMI(17.6))"
   ]
  },
  {
   "cell_type": "code",
   "execution_count": 6,
   "metadata": {},
   "outputs": [
    {
     "name": "stdout",
     "output_type": "stream",
     "text": [
      "True\n",
      "False\n"
     ]
    }
   ],
   "source": [
    "def is_odd(n):\n",
    "    if n % 2 == 0:\n",
    "        return True\n",
    "    else:\n",
    "        return False\n",
    "\n",
    "print(is_odd(3600))\n",
    "print(is_odd(3601))"
   ]
  },
  {
   "cell_type": "code",
   "execution_count": 7,
   "metadata": {},
   "outputs": [
    {
     "name": "stdout",
     "output_type": "stream",
     "text": [
      "True\n",
      "True\n",
      "False\n",
      "True\n"
     ]
    }
   ],
   "source": [
    "def is_prime(n):\n",
    "    for i in range(2,n):\n",
    "        if n % i == 0:\n",
    "            return False\n",
    "            break    \n",
    "        elif i == n-1:\n",
    "            return True\n",
    "    if n == 2:\n",
    "        return True\n",
    "        \n",
    "print(is_prime(2))\n",
    "print(is_prime(11))\n",
    "print(is_prime(20))\n",
    "print(is_prime(29))"
   ]
  },
  {
   "cell_type": "code",
   "execution_count": 8,
   "metadata": {},
   "outputs": [
    {
     "name": "stdout",
     "output_type": "stream",
     "text": [
      "[[2, 1, 1], [2, 4, 2], [3, 3, 6]]\n"
     ]
    }
   ],
   "source": [
    "def matrix33_add(m1, m2):\n",
    "    m_all= [[0,0,0],[0,0,0],[0,0,0]]\n",
    "    for i in range(3):\n",
    "        for j in range(3):\n",
    "            m_all[i][j]= m1[i][j]+ m2[i][j]\n",
    "    return m_all\n",
    "            \n",
    "m1 = [\n",
    "    [1,1,1],\n",
    "    [2,2,2],\n",
    "    [3,3,3]]\n",
    "m2 = [\n",
    "    [1,0,0],\n",
    "    [0,2,0],\n",
    "    [0,0,3]]\n",
    "print(matrix33_add(m1,m2))"
   ]
  },
  {
   "cell_type": "code",
   "execution_count": 9,
   "metadata": {},
   "outputs": [
    {
     "name": "stdout",
     "output_type": "stream",
     "text": [
      "[[1, 2, 3, 4], [6, 8, 9]]\n"
     ]
    }
   ],
   "source": [
    "def seperate(a, n):\n",
    "    b1, b2 = [], []   \n",
    "    for i in range(len(a)): \n",
    "        if a[i] > n:\n",
    "            b2.append(a[i])\n",
    "        else:\n",
    "            b1.append(a[i])\n",
    "    return [b1, b2]\n",
    "\n",
    "a = [1,2,3,4,6,8,9]\n",
    "print(seperate(a,4.5))"
   ]
  },
  {
   "cell_type": "code",
   "execution_count": 10,
   "metadata": {},
   "outputs": [
    {
     "name": "stdout",
     "output_type": "stream",
     "text": [
      "[0]\n",
      "[0, 1]\n",
      "[0, 1, 1, 2, 3]\n",
      "[0, 1, 1, 2, 3, 5, 8, 13, 21, 34, 55, 89, 144]\n"
     ]
    }
   ],
   "source": [
    "def get_fibonacci(n):\n",
    "    if n == 1:\n",
    "        return [0]\n",
    "    if n == 2:\n",
    "        return [0, 1]\n",
    "    f = [0, 1]\n",
    "    for i in range(2, n):\n",
    "        f.append(f[-1] + f[-2])\n",
    "    return f\n",
    "print(get_fibonacci(1))\n",
    "print(get_fibonacci(2))\n",
    "print(get_fibonacci(5))\n",
    "print(get_fibonacci(13))"
   ]
  },
  {
   "cell_type": "code",
   "execution_count": 11,
   "metadata": {},
   "outputs": [
    {
     "name": "stdout",
     "output_type": "stream",
     "text": [
      "[2]\n",
      "[2, 3, 5, 7]\n",
      "[2, 3, 5, 7, 11, 13, 17, 19]\n"
     ]
    }
   ],
   "source": [
    "def get_prime(n):\n",
    "    primes = []\n",
    "    for i in range(2, n+1):\n",
    "        for j in range(2, i):\n",
    "            if(i% j== 0):\n",
    "                break\n",
    "        else:\n",
    "            primes.append(i)\n",
    "    return primes\n",
    "        \n",
    "print(get_prime(2))\n",
    "print(get_prime(10))\n",
    "print(get_prime(20))"
   ]
  },
  {
   "cell_type": "code",
   "execution_count": 12,
   "metadata": {},
   "outputs": [
    {
     "name": "stdout",
     "output_type": "stream",
     "text": [
      "[2, 2, 5, 6, 10, 23, 27, 38, 59]\n",
      "[1, 2, 4, 20, 27, 28, 29, 49, 58, 59, 60, 63]\n"
     ]
    }
   ],
   "source": [
    "def bubble_sort(arr):\n",
    "    for i in range(len(arr)-1):\n",
    "        for j in range(len(arr)-1-i):\n",
    "            if arr[j]> arr[j+1]:\n",
    "                tmp= arr[j]\n",
    "                arr[j]= arr[j+1]\n",
    "                arr[j+1]= tmp\n",
    "    return arr\n",
    "\n",
    "print(bubble_sort([5,2,6,2,10,38,27,59,23]))\n",
    "print(bubble_sort([49,20,58,2,4,27,63,28,60,29,1,59]))"
   ]
  },
  {
   "cell_type": "code",
   "execution_count": null,
   "metadata": {},
   "outputs": [],
   "source": []
  }
 ],
 "metadata": {
  "kernelspec": {
   "display_name": "Python 3",
   "language": "python",
   "name": "python3"
  },
  "language_info": {
   "codemirror_mode": {
    "name": "ipython",
    "version": 3
   },
   "file_extension": ".py",
   "mimetype": "text/x-python",
   "name": "python",
   "nbconvert_exporter": "python",
   "pygments_lexer": "ipython3",
   "version": "3.8.5"
  }
 },
 "nbformat": 4,
 "nbformat_minor": 4
}
