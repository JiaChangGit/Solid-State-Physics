{
 "cells": [
  {
   "cell_type": "code",
   "execution_count": 8,
   "metadata": {},
   "outputs": [],
   "source": [
    "import matplotlib.pyplot as plt\n",
    "import numpy as np\n",
    "from numpy import pi\n",
    "from toolbox import solve_bands, kpoints_to_xaxis\n",
    "plt.rcParams.update({'font.size': 14})"
   ]
  },
  {
   "cell_type": "markdown",
   "metadata": {},
   "source": [
    "---\n",
    "## <font color=\"Blue\">1. Example: single-band in a 1-D lattice<font>\n",
    "<img src=\"./images/1.png\" width=\"50%\" align=\"left\">"
   ]
  },
  {
   "cell_type": "markdown",
   "metadata": {},
   "source": [
    "### Build Hamiltonian"
   ]
  },
  {
   "cell_type": "code",
   "execution_count": 9,
   "metadata": {},
   "outputs": [],
   "source": [
    "H = {}\n",
    "H[(0,0,0)] = np.array([\n",
    "    [0],\n",
    "])\n",
    "H[(1,0,0)] = np.array([\n",
    "    [-1],\n",
    "])\n",
    "H[(-1,0,0)] = np.array([\n",
    "    [-1]\n",
    "])"
   ]
  },
  {
   "cell_type": "markdown",
   "metadata": {},
   "source": [
    "### Define k-path "
   ]
  },
  {
   "cell_type": "code",
   "execution_count": 10,
   "metadata": {},
   "outputs": [],
   "source": [
    "k1Arr = np.linspace([-1*pi, 0 ,0], [1*pi,0, 0], num=101) # G-X\n",
    "kArr = np.r_[k1Arr]"
   ]
  },
  {
   "cell_type": "markdown",
   "metadata": {},
   "source": [
    "### Solve and plot"
   ]
  },
  {
   "cell_type": "code",
   "execution_count": 11,
   "metadata": {},
   "outputs": [
    {
     "name": "stdout",
     "output_type": "stream",
     "text": [
      "Shape of bands: (101, 1)\n",
      "Number of calculated k-points: 101\n",
      "Number of bands: 1\n",
      "\n"
     ]
    },
    {
     "data": {
      "image/png": "[encoded data removed]",
      "text/plain": [
       "<Figure size 432x288 with 1 Axes>"
      ]
     },
     "metadata": {
      "needs_background": "light"
     },
     "output_type": "display_data"
    }
   ],
   "source": [
    "# solve bands\n",
    "bands = solve_bands(H, kArr)\n",
    "print(f'Shape of bands: {bands.shape}')\n",
    "print(f'Number of calculated k-points: {bands.shape[0]}')\n",
    "print(f'Number of bands: {bands.shape[1]}')\n",
    "print()\n",
    "\n",
    "# make x-axis for plotting\n",
    "xArr = kArr[:,0]/pi\n",
    "\n",
    "# plot bands\n",
    "for band in bands.T:\n",
    "    plt.plot(xArr, band, '-o')\n",
    "plt.xlabel('kx (in unit of π)')\n",
    "plt.ylabel('Energy (eV)')\n",
    "plt.show()"
   ]
  },
  {
   "cell_type": "markdown",
   "metadata": {},
   "source": [
    "---\n",
    "## <font color=\"Blue\">2. Example: single-band in a 2-D square lattice<font>\n",
    "<img src=\"./images/2-1.png\" width=\"40%\" align=\"left\">\n",
    "<img src=\"./images/2-2.png\" width=\"40%\" align=\"left\">"
   ]
  },
  {
   "cell_type": "code",
   "execution_count": 12,
   "metadata": {},
   "outputs": [],
   "source": [
    "# Build Hamiltonian\n",
    "H = {}\n",
    "H[(0,0,0)] = np.array([\n",
    "    [0],\n",
    "])\n",
    "H[(1,0,0)] = np.array([\n",
    "    [-1],\n",
    "])\n",
    "H[(-1,0,0)] = np.array([\n",
    "    [-1]\n",
    "])\n",
    "H[(0,1,0)] = np.array([\n",
    "    [-1],\n",
    "])\n",
    "H[(0,-1,0)] = np.array([\n",
    "    [-1]\n",
    "])\n",
    "\n",
    "# Define k-path \n",
    "sk = [\n",
    "    ('G', [ 0, 0, 0]),\n",
    "    ('X', [ 0,pi, 0]),\n",
    "    ('M', [pi,pi, 0]),\n",
    "    ('G', [ 0, 0 ,0]),\n",
    "]\n",
    "k1Arr = np.linspace([ 0, 0 ,0], [ 0,pi, 0], num=20) # G-X\n",
    "k2Arr = np.linspace([ 0,pi, 0], [pi,pi, 0], num=20) # X-M\n",
    "k3Arr = np.linspace([pi,pi, 0], [ 0, 0, 0], num=20) # M-G\n",
    "kArr = np.r_[k1Arr, k2Arr, k3Arr]"
   ]
  },
  {
   "cell_type": "code",
   "execution_count": 13,
   "metadata": {},
   "outputs": [
    {
     "name": "stdout",
     "output_type": "stream",
     "text": [
      "Shape of bands: (60, 1)\n",
      "Number of calculated k-points: 60\n",
      "Number of bands: 1\n",
      "\n"
     ]
    },
    {
     "data": {
      "image/png": "[encoded data removed]",
      "text/plain": [
       "<Figure size 432x288 with 1 Axes>"
      ]
     },
     "metadata": {
      "needs_background": "light"
     },
     "output_type": "display_data"
    }
   ],
   "source": [
    "# solve bands\n",
    "bands = solve_bands(H, kArr)\n",
    "print(f'Shape of bands: {bands.shape}')\n",
    "print(f'Number of calculated k-points: {bands.shape[0]}')\n",
    "print(f'Number of bands: {bands.shape[1]}')\n",
    "print()\n",
    "\n",
    "# make x-axis for plotting\n",
    "xArr = kpoints_to_xaxis(kArr)\n",
    "hk_labels = [ s[0] for s in sk ]\n",
    "hk_points = [ s[1] for s in sk ]\n",
    "hk_xaxis = kpoints_to_xaxis(hk_points)\n",
    "\n",
    "# plot bands\n",
    "for band in bands.T:\n",
    "    plt.plot(xArr, band, '-o')\n",
    "for i, _ in enumerate(hk_labels):\n",
    "    plt.axvline(hk_xaxis[i])\n",
    "plt.ylabel('Energy (eV)')\n",
    "plt.xticks(hk_xaxis, hk_labels)\n",
    "plt.show()"
   ]
  },
  {
   "cell_type": "markdown",
   "metadata": {},
   "source": [
    "---\n",
    "## <font color=\"Blue\">3. Example: graphene<font>\n",
    "<img src=\"./images/3-1.png\" width=\"40%\" align=\"left\">\n",
    "<img src=\"./images/3-2.png\" width=\"40%\" align=\"left\">"
   ]
  },
  {
   "cell_type": "code",
   "execution_count": 14,
   "metadata": {},
   "outputs": [],
   "source": [
    "t = 2.8\n",
    "H = {}\n",
    "H[(0,0,0)] = np.array([\n",
    "    [ 0,-t],\n",
    "    [-t, 0],\n",
    "])\n",
    "H[(np.sqrt(3)/2,1/2,0)] = np.array([\n",
    "    [ 0, 0],\n",
    "    [-t, 0],\n",
    "])\n",
    "H[(np.sqrt(3)/2,-1/2,0)] = np.array([\n",
    "    [ 0, 0],\n",
    "    [-t, 0],\n",
    "])\n",
    "H[(-np.sqrt(3)/2,1/2,0)] = np.array([\n",
    "    [ 0,-t],\n",
    "    [ 0, 0],\n",
    "])\n",
    "H[(-np.sqrt(3)/2,-1/2,0)] = np.array([\n",
    "    [ 0,-t],\n",
    "    [ 0, 0],\n",
    "])\n",
    "\n",
    "\n",
    "k_G = [              0,     0,  0]\n",
    "k_M = [  pi/np.sqrt(3),     pi, 0]\n",
    "k_K = [2*pi/np.sqrt(3), 2/3*pi, 0]\n",
    "sk = [\n",
    "    ('G', k_G),\n",
    "    ('M', k_M),\n",
    "    ('K', k_K),\n",
    "    ('G', k_G),\n",
    "]\n",
    "k1Arr = np.linspace(k_G, k_M, num=20)\n",
    "k2Arr = np.linspace(k_M, k_K, num=20)\n",
    "k3Arr = np.linspace(k_K, k_G, num=20)\n",
    "kArr = np.r_[k1Arr, k2Arr, k3Arr]"
   ]
  },
  {
   "cell_type": "code",
   "execution_count": 15,
   "metadata": {},
   "outputs": [
    {
     "name": "stdout",
     "output_type": "stream",
     "text": [
      "Shape of bands: (60, 2)\n",
      "Number of calculated k-points: 60\n",
      "Number of bands: 2\n",
      "\n"
     ]
    },
    {
     "data": {
      "image/png": "[encoded data removed]",
      "text/plain": [
       "<Figure size 432x288 with 1 Axes>"
      ]
     },
     "metadata": {
      "needs_background": "light"
     },
     "output_type": "display_data"
    }
   ],
   "source": [
    "# solve bands\n",
    "bands = solve_bands(H, kArr)\n",
    "print(f'Shape of bands: {bands.shape}')\n",
    "print(f'Number of calculated k-points: {bands.shape[0]}')\n",
    "print(f'Number of bands: {bands.shape[1]}')\n",
    "print()\n",
    "\n",
    "# make x-axis for plotting\n",
    "xArr = kpoints_to_xaxis(kArr)\n",
    "hk_labels = [ s[0] for s in sk ]\n",
    "hk_points = [ s[1] for s in sk ]\n",
    "hk_xaxis = kpoints_to_xaxis(hk_points)\n",
    "\n",
    "# plot bands\n",
    "for band in bands.T:\n",
    "    plt.plot(xArr, band, '-o')\n",
    "for i, _ in enumerate(hk_labels):\n",
    "    plt.axvline(hk_xaxis[i])\n",
    "plt.ylabel('Energy (eV)')\n",
    "plt.xticks(hk_xaxis, hk_labels)\n",
    "plt.show()"
   ]
  },
  {
   "cell_type": "markdown",
   "metadata": {},
   "source": [
    "---\n",
    "## <font color=\"Blue\">4. Example: single-band in a 3-D square lattice<font>\n",
    "<img src=\"./images/4.png\" width=\"40%\" align=\"left\">"
   ]
  },
  {
   "cell_type": "code",
   "execution_count": 16,
   "metadata": {},
   "outputs": [],
   "source": [
    "H = {}\n",
    "H[(0,0,0)] = np.array([\n",
    "    [0],\n",
    "])\n",
    "H[(1,0,0)] = np.array([\n",
    "    [-1],\n",
    "])\n",
    "H[(-1,0,0)] = np.array([\n",
    "    [-1]\n",
    "])\n",
    "H[(0,1,0)] = np.array([\n",
    "    [-1],\n",
    "])\n",
    "H[(0,-1,0)] = np.array([\n",
    "    [-1]\n",
    "])\n",
    "H[(0,0,1)] = np.array([\n",
    "    [-1],\n",
    "])\n",
    "H[(0,0,-1)] = np.array([\n",
    "    [-1]\n",
    "])\n",
    "\n",
    "\n",
    "sk = [\n",
    "    ('G', [ 0, 0, 0]),\n",
    "    ('X', [ 0,pi, 0]),\n",
    "    ('M', [pi,pi, 0]),\n",
    "    ('G', [ 0, 0 ,0]),\n",
    "    ('R', [pi,pi,pi]),\n",
    "]\n",
    "k1Arr = np.linspace([ 0, 0 ,0], [ 0,pi, 0], num=20) # G-X\n",
    "k2Arr = np.linspace([ 0,pi, 0], [pi,pi, 0], num=20) # X-M\n",
    "k3Arr = np.linspace([pi,pi, 0], [ 0, 0, 0], num=20) # M-G\n",
    "k4Arr = np.linspace([ 0, 0, 0], [pi,pi,pi], num=20) # G-R\n",
    "kArr = np.r_[k1Arr, k2Arr, k3Arr, k4Arr]"
   ]
  },
  {
   "cell_type": "code",
   "execution_count": 17,
   "metadata": {},
   "outputs": [
    {
     "name": "stdout",
     "output_type": "stream",
     "text": [
      "Shape of bands: (80, 1)\n",
      "Number of calculated k-points: 80\n",
      "Number of bands: 1\n",
      "\n"
     ]
    },
    {
     "data": {
      "image/png": "[encoded data removed]",
      "text/plain": [
       "<Figure size 432x288 with 1 Axes>"
      ]
     },
     "metadata": {
      "needs_background": "light"
     },
     "output_type": "display_data"
    }
   ],
   "source": [
    "# solve bands\n",
    "bands = solve_bands(H, kArr)\n",
    "print(f'Shape of bands: {bands.shape}')\n",
    "print(f'Number of calculated k-points: {bands.shape[0]}')\n",
    "print(f'Number of bands: {bands.shape[1]}')\n",
    "print()\n",
    "\n",
    "# make x-axis for plotting\n",
    "xArr = kpoints_to_xaxis(kArr)\n",
    "hk_labels = [ s[0] for s in sk ]\n",
    "hk_points = [ s[1] for s in sk ]\n",
    "hk_xaxis = kpoints_to_xaxis(hk_points)\n",
    "\n",
    "# plot bands\n",
    "for band in bands.T:\n",
    "    plt.plot(xArr, band, '-o')\n",
    "for i, _ in enumerate(hk_labels):\n",
    "    plt.axvline(hk_xaxis[i])\n",
    "plt.ylabel('Energy (eV)')\n",
    "plt.xticks(hk_xaxis, hk_labels)\n",
    "plt.show()"
   ]
  },
  {
   "cell_type": "code",
   "execution_count": null,
   "metadata": {},
   "outputs": [],
   "source": []
  }
 ],
 "metadata": {
  "kernelspec": {
   "display_name": "Python 3",
   "language": "python",
   "name": "python3"
  },
  "language_info": {
   "codemirror_mode": {
    "name": "ipython",
    "version": 3
   },
   "file_extension": ".py",
   "mimetype": "text/x-python",
   "name": "python",
   "nbconvert_exporter": "python",
   "pygments_lexer": "ipython3",
   "version": "3.8.8"
  }
 },
 "nbformat": 4,
 "nbformat_minor": 4
}
