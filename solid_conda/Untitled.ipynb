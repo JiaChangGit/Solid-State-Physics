{
 "cells": [
  {
   "cell_type": "code",
   "execution_count": 2,
   "metadata": {},
   "outputs": [],
   "source": [
    "\n",
    "import matplotlib.pyplot as plt\n",
    "import numpy as np\n",
    "from scipy import linalg\n",
    "from IPython.display import HTML\n",
    "from tools import create_animation\n",
    "%config InlineBackend.figure_format = 'svg'"
   ]
  },
  {
   "cell_type": "code",
   "execution_count": 3,
   "metadata": {},
   "outputs": [],
   "source": [
    "\n",
    "N = 100\n",
    "np.set_printoptions(threshold=20)\n",
    "print(M.shape)\n",
    "print(M)"
   ]
  },
  {
   "cell_type": "code",
   "execution_count": 4,
   "metadata": {},
   "outputs": [
    {
     "name": "stdout",
     "output_type": "stream",
     "text": [
      "(3, 3)\n",
      "[[ 1 -1  0]\n",
      " [-1  2 -1]\n",
      " [ 0 -1  1]]\n"
     ]
    }
   ],
   "source": [
    "N = 100\n",
    "M = np.array([\n",
    "    [ 1, -1,  0],\n",
    "    [-1,  2, -1],\n",
    "    [ 0, -1,  1],\n",
    "])\n",
    "print(M.shape)\n",
    "print(M)"
   ]
  },
  {
   "cell_type": "code",
   "execution_count": 5,
   "metadata": {},
   "outputs": [],
   "source": [
    "\n",
    "\n",
    "eigenvalue, eigenvector = linalg.eigh(M)\n",
    "\n"
   ]
  },
  {
   "cell_type": "code",
   "execution_count": 6,
   "metadata": {},
   "outputs": [],
   "source": [
    "\n",
    "\n",
    "###########################\n",
    "# Your codes here.\n",
    "# Plot eigenvalue.\n",
    "###########################\n",
    "\n"
   ]
  },
  {
   "cell_type": "code",
   "execution_count": 7,
   "metadata": {},
   "outputs": [],
   "source": [
    "\n",
    "\n",
    "###########################\n",
    "# Your codes here.\n",
    "# Plot frequency.\n",
    "###########################\n",
    "\n"
   ]
  },
  {
   "cell_type": "code",
   "execution_count": 8,
   "metadata": {},
   "outputs": [],
   "source": [
    "\n",
    "\n",
    "n1, n2 = 1, -3\n",
    "###########################\n",
    "# Your codes here.\n",
    "# Plot eigenvector (displacement).\n",
    "###########################\n",
    "\n"
   ]
  },
  {
   "cell_type": "code",
   "execution_count": null,
   "metadata": {},
   "outputs": [],
   "source": [
    "# choose normal mode\n",
    "n = -1\n",
    "\n",
    "# position shift of n-th normal mode\n",
    "xxs = eigenvector[:,n]\n",
    "\n",
    "# frequency of n-th normal mode\n",
    "w = np.sqrt(eigenvalue[n])\n",
    "\n",
    "# enlarge the position shift to plot clearly\n",
    "xxs = xxs*3\n",
    "\n",
    "# frequency is fixed to a constsnt to plot clearly\n",
    "w = 5\n",
    "\n",
    "# positions that seperate atom from each other\n",
    "xx0 = np.arange(0,N)*2\n",
    "\n",
    "# time range\n",
    "tt = np.linspace(0, 2*np.pi, 80)\n",
    "xxt = np.sin(tt*w)\n",
    "\n",
    "# position of time and shift; xx(t,s)\n",
    "xxts = xx0 + np.tensordot(xxt, xxs, axes=0)"
   ]
  }
 ],
 "metadata": {
  "kernelspec": {
   "display_name": "Python 3",
   "language": "python",
   "name": "python3"
  },
  "language_info": {
   "codemirror_mode": {
    "name": "ipython",
    "version": 3
   },
   "file_extension": ".py",
   "mimetype": "text/x-python",
   "name": "python",
   "nbconvert_exporter": "python",
   "pygments_lexer": "ipython3",
   "version": "3.8.5"
  }
 },
 "nbformat": 4,
 "nbformat_minor": 4
}
